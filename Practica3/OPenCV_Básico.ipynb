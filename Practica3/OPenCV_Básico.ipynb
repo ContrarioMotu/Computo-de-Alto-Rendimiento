{
  "nbformat": 4,
  "nbformat_minor": 0,
  "metadata": {
    "colab": {
      "provenance": []
    },
    "kernelspec": {
      "name": "python3",
      "display_name": "Python 3"
    },
    "language_info": {
      "name": "python"
    }
  },
  "cells": [
    {
      "cell_type": "code",
      "source": [
        "from google.colab import drive\n",
        "drive.mount('/content/drive')"
      ],
      "metadata": {
        "id": "BjueQUNWWJno",
        "colab": {
          "base_uri": "https://localhost:8080/"
        },
        "outputId": "e7354e0d-c040-417e-bcc9-00d3bcd34fa0"
      },
      "execution_count": 12,
      "outputs": [
        {
          "output_type": "stream",
          "name": "stdout",
          "text": [
            "Drive already mounted at /content/drive; to attempt to forcibly remount, call drive.mount(\"/content/drive\", force_remount=True).\n"
          ]
        }
      ]
    },
    {
      "cell_type": "markdown",
      "source": [
        "# Representación de Imagen en Color RGB\n",
        "\n",
        "\n",
        "La representación de imagen en color RGB es un modelo de color en el que cada imagen está compuesta por tres canales de color: Rojo (Red), Verde (Green) y Azul (Blue). Estos tres colores primarios se combinan en diversas intensidades para crear una amplia gama de colores en una imagen.\n",
        "\n",
        "\n",
        "### Cómo funciona la representación RGB:\n",
        "Píxeles y Canales:\n",
        "\n",
        "Una imagen digital está compuesta por pequeños puntos llamados píxeles. Cada píxel tiene un valor de color determinado por la combinación de los tres canales RGB.\n",
        "En una imagen RGB, cada píxel tiene tres componentes: uno para el canal rojo, otro para el verde, y otro para el azul.\n",
        "Combinación de Colores:\n",
        "\n",
        "Cada canal puede tener un valor que generalmente varía entre 0 y 255. Estos valores representan la intensidad del color en ese canal específico.\n",
        "Al combinar estos valores, se obtiene el color final del píxel. Por ejemplo:\n",
        "(255, 0, 0) representaría un píxel completamente rojo.\n",
        "(0, 255, 0) sería completamente verde.\n",
        "(0, 0, 255) sería completamente azul.\n",
        "(255, 255, 255) representaría el blanco (todos los colores mezclados al máximo).\n",
        "(0, 0, 0) sería negro (ausencia de color).\n",
        "Uso en Imágenes Digitales:\n",
        "\n",
        "El modelo RGB es comúnmente utilizado en pantallas electrónicas, cámaras digitales y en la mayoría de las aplicaciones de procesamiento de imágenes.\n",
        "Es el formato estándar para representar imágenes en color en muchas herramientas de software, incluyendo las utilizadas para gráficos y edición de imágenes.\n",
        "\n",
        "\n",
        "### Representación en Memoria:\n",
        "\n",
        "En términos de almacenamiento, cada píxel en una imagen RGB se representa generalmente con 3 bytes, uno para cada canal de color. Esto significa que una imagen de 1 megapíxel (1 millón de píxeles) ocuparía alrededor de 3 megabytes de memoria sin comprimir.\n",
        "Ejemplo:\n",
        "Si tienes una imagen con una resolución de 100x100 píxeles, la imagen tendrá 10,000 píxeles en total. Cada uno de estos píxeles será descrito por tres valores, uno para cada canal de color (R, G, B), lo que permite representar una amplia gama de colores en la imagen.\n",
        "\n",
        "En resumen, la representación RGB es un método eficiente y ampliamente utilizado para codificar y procesar imágenes en color en sistemas digitales.\n",
        "\n",
        "\n",
        "\n",
        "\n",
        "\n",
        "\n",
        "\n"
      ],
      "metadata": {
        "id": "W1kLv0HtViqI"
      }
    },
    {
      "cell_type": "markdown",
      "source": [
        "# OpenCV\n",
        "\n",
        "OpenCV (Open Source Computer Vision Library) es una biblioteca de software de código abierto diseñada para realizar tareas de visión por computadora en tiempo real. Fue desarrollada originalmente por Intel y ahora es mantenida por la comunidad de código abierto.\n",
        "\n",
        "## Características principales de OpenCV:\n",
        "* Visión por Computadora:\n",
        "\n",
        "\n",
        "\n",
        "\n",
        "\n",
        "\n",
        "OpenCV proporciona una amplia gama de funciones y herramientas para la visión por computadora, que incluyen detección y reconocimiento de objetos, procesamiento de imágenes, análisis de movimiento, y reconstrucción 3D, entre otras.\n",
        "\n",
        "* Procesamiento de Imágenes:\n",
        "\n",
        "Permite realizar operaciones complejas de procesamiento de imágenes como filtrado, transformación geométrica, segmentación, detección de bordes, y muchas más.\n",
        "\n",
        "* Compatibilidad Multiplataforma:\n",
        "\n",
        "OpenCV es compatible con múltiples plataformas, incluyendo Windows, macOS, Linux, Android, e iOS. Esto la hace ideal para aplicaciones que requieren ejecutarse en diferentes sistemas operativos.\n",
        "\n",
        "* Soporte Multilenguaje:\n",
        "\n",
        "Aunque OpenCV está escrito en C++, también tiene enlaces para otros lenguajes de programación populares como Python, Java, y MATLAB, lo que facilita su integración en diversos entornos de desarrollo.\n",
        "\n",
        "* Integración con Hardware:\n",
        "\n",
        "OpenCV puede aprovechar la aceleración por hardware (como GPUs) para mejorar el rendimiento en tareas intensivas de procesamiento de imágenes y visión por computadora.\n",
        "* Aplicaciones en el Mundo Real:\n",
        "\n",
        "OpenCV se utiliza en una amplia variedad de aplicaciones en el mundo real, incluyendo sistemas de seguridad y vigilancia, análisis de imágenes médicas, robótica, automóviles autónomos, realidad aumentada, y más.\n",
        "Código Abierto:\n",
        "\n",
        "Al ser una biblioteca de código abierto, OpenCV es gratuita y su código fuente está disponible para que los desarrolladores lo modifiquen y mejoren según sus necesidades."
      ],
      "metadata": {
        "id": "y8b96NYbWQpq"
      }
    },
    {
      "cell_type": "code",
      "source": [
        "## Instalacion de OpenCV"
      ],
      "metadata": {
        "id": "Ffi8aR0fbh7s"
      },
      "execution_count": 23,
      "outputs": []
    },
    {
      "cell_type": "code",
      "execution_count": 24,
      "metadata": {
        "colab": {
          "base_uri": "https://localhost:8080/"
        },
        "id": "dmZ2TuT9Uv97",
        "outputId": "776955d7-8387-4155-fd3f-dc455b75841d"
      },
      "outputs": [
        {
          "output_type": "stream",
          "name": "stdout",
          "text": [
            "Reading package lists... Done\n",
            "Building dependency tree... Done\n",
            "Reading state information... Done\n",
            "libopencv-dev is already the newest version (4.5.4+dfsg-9ubuntu4+jammy0).\n",
            "0 upgraded, 0 newly installed, 0 to remove and 50 not upgraded.\n"
          ]
        }
      ],
      "source": [
        "!apt-get install libopencv-dev"
      ]
    },
    {
      "cell_type": "code",
      "source": [
        "%%writefile program.c\n",
        "#include <opencv2/opencv.hpp>\n",
        "\n",
        "int main() {\n",
        "    // Cargar la imagen en un objeto cv::Mat\n",
        "    cv::Mat imagen = cv::imread(\"/content/drive/MyDrive/CUDA/PRACTICAS/Practica_3/img/images.png\", cv::IMREAD_COLOR);\n",
        "    int rows = imagen.rows;\n",
        "    int cols = imagen.cols;\n",
        "    // Determina el numero de pixeles de la imagen\n",
        "    printf(\"Resolucion de la imagen es %dx%d pixeles\\n\",cols,rows);\n",
        "    //\n",
        "    return 0;\n",
        "}"
      ],
      "metadata": {
        "id": "fbpc8FuoXEUP",
        "colab": {
          "base_uri": "https://localhost:8080/"
        },
        "outputId": "16149c21-e038-463a-eca7-bd1f33e89efd"
      },
      "execution_count": 25,
      "outputs": [
        {
          "output_type": "stream",
          "name": "stdout",
          "text": [
            "Overwriting program.c\n"
          ]
        }
      ]
    },
    {
      "cell_type": "code",
      "source": [
        "!g++ program.c -o program `pkg-config --cflags --libs opencv4`\n",
        "!./program"
      ],
      "metadata": {
        "id": "3n1ZqNHLXEc_",
        "colab": {
          "base_uri": "https://localhost:8080/"
        },
        "outputId": "e082cae4-5f30-421c-a7bf-cb6d982eb671"
      },
      "execution_count": 26,
      "outputs": [
        {
          "output_type": "stream",
          "name": "stdout",
          "text": [
            "Resolucion de la imagen es 345x146 pixeles\n"
          ]
        }
      ]
    },
    {
      "cell_type": "code",
      "source": [
        "%%writefile program.c\n",
        "#include <opencv2/opencv.hpp>\n",
        "#include <iostream>\n",
        "\n",
        "int main() {\n",
        "    // Cargar la imagen en color\n",
        "    cv::Mat image = cv::imread(\"/content/drive/MyDrive/CUDA/PRACTICAS/Practica_3/img/images.png\", cv::IMREAD_COLOR);\n",
        "\n",
        "    if (image.empty()) {\n",
        "        std::cerr << \"No se pudo abrir o encontrar la imagen\" << std::endl;\n",
        "        return -1;\n",
        "    }\n",
        "\n",
        "    // Coordenadas del píxel que deseas acceder\n",
        "    int fila    = 100;\n",
        "    int columna = 100;\n",
        "\n",
        "\n",
        "    // Usar ptr para acceder a un píxel en la imagen\n",
        "    cv::Vec3b* pixelPtr = image.ptr<cv::Vec3b>(fila); // Obtener el puntero al inicio de la fila y\n",
        "    cv::Vec3b pixelValue = pixelPtr[columna];            // Acceder al valor del píxel en la columna x\n",
        "\n",
        "    // Mostrar los valores de los canales B, G, R\n",
        "    std::cout << \"El valor del píxel en (\" << columna << \", \" << fila << \") es: \"\n",
        "              << \"B: \" << static_cast<int>(pixelValue[0]) << \", \"\n",
        "              << \"G: \" << static_cast<int>(pixelValue[1]) << \", \"\n",
        "              << \"R: \" << static_cast<int>(pixelValue[2]) << std::endl;\n",
        "\n",
        "    return 0;\n",
        "}\n"
      ],
      "metadata": {
        "id": "MhMyh_qcXEjr",
        "colab": {
          "base_uri": "https://localhost:8080/"
        },
        "outputId": "11ea4747-42f7-4dcb-d280-bee9efdaa5c0"
      },
      "execution_count": 29,
      "outputs": [
        {
          "output_type": "stream",
          "name": "stdout",
          "text": [
            "Overwriting program.c\n"
          ]
        }
      ]
    },
    {
      "cell_type": "code",
      "source": [
        "!g++ program.c -o program `pkg-config --cflags --libs opencv4`\n",
        "!./program"
      ],
      "metadata": {
        "id": "KFFRyHg1XEmt",
        "colab": {
          "base_uri": "https://localhost:8080/"
        },
        "outputId": "f05d6638-478b-4d70-e878-c29b0af272fe"
      },
      "execution_count": 30,
      "outputs": [
        {
          "output_type": "stream",
          "name": "stdout",
          "text": [
            "El valor del píxel en (100, 100) es: B: 21, G: 0, R: 0\n"
          ]
        }
      ]
    },
    {
      "cell_type": "code",
      "source": [],
      "metadata": {
        "id": "nOS3cQvJPHWc"
      },
      "execution_count": null,
      "outputs": []
    }
  ]
}